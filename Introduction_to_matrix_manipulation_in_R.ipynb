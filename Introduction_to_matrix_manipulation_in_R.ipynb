{
  "cells": [
{


      	"cell_type": "markdown",
      	"source": [
        	"This is a Jupyter Notebook. One each \"cell\" you can either add text (like here) or code (like below)."
      	],
      	"metadata": {
        	"id": "DPyfNaZOM-wT"
      	},
{
      "cell_type": "code",
      "source": [
        "!echo I am using Google Colab\n",
        "!echo\n",
        "!echo Today is `date`"
      ],
      "metadata": {
        "id": "NGbTea6VYitx"
      },
      "id": "NGbTea6VYitx",
      "execution_count": null,
      "outputs": []
    },


 "metadata": {
  "kernelspec": {
   "display_name": "R",
   "language": "R",
   "name": "ir"
  },
  "language_info": {
   "codemirror_mode": "r",
   "file_extension": ".r",
   "mimetype": "text/x-r-source",
   "name": "R",
   "pygments_lexer": "r",
   "version": "3.6.1"
  }
 },
 "nbformat": 4,
 "nbformat_minor": 2
}
