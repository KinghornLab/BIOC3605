{
  "cells": [
    {
      "cell_type": "markdown",
      "metadata": {
        "id": "view-in-github",
        "colab_type": "text"
      },
      "source": [
        "<a href=\"https://colab.research.google.com/github/KinghornLab/Introduction_to_matrix_manipulation_in_R.ipynb\" target=\"_parent\"><img src=\"https://colab.research.google.com/assets/colab-badge.svg\" alt=\"Open In Colab\"/></a>"
      ]
    },
    {
      "cell_type": "markdown",
      "id": "6d954c3e",
      "metadata": {
        "id": "6d954c3e"
      },
      "source": [
        "## Introduction to matrix manipulation in R\n",
        "\n",
        "BIOC3605 - Dr Andrew Kinghorn"
      ]
    },
    {
      "cell_type": "markdown",
      "source": [
        "A variable can hold a single value."
      ],
      "metadata": {
        "id": "DPyfNaZOM-wT"
      },
      "id": "DPyfNaZOM-wT"
    },
    {
      "cell_type": "code",
      "source": [
        "x <- 1; # This variable has name 'x'. It is assigned to hold the number 1\n"
        "print(x);"
      ],
      "metadata": {
        "id": "NGbTea6VYitx"
      },
      "id": "NGbTea6VYitx",
      "execution_count": null,
      "outputs": []
    },
    {
      "cell_type": "markdown",
      "source": [
        "A vector holds an ordered list of values.\n",
        "\n",
        "For example: The code \"cell\" below connects Colab to our Google Drive."
      ],
      "metadata": {
        "id": "RhPbHEneai2F"
      },
      "id": "RhPbHEneai2F"
    },
    {
      "cell_type": "code",
      "source": [
        "x <- 1:10; #In this case, x is a vector of cosecurtive natural numbers 1, 2, 3,..., 10\n"
        "print(x);"
      ],
      "metadata": {
        "id": "pW_BSWHdZgb7"
      },
      "id": "pW_BSWHdZgb7",
      "execution_count": null,
      "outputs": []
    }
  ],
  "metadata": {
  "kernelspec": {
   "display_name": "R",
   "language": "R",
   "name": "ir"
  },
  "language_info": {
   "codemirror_mode": "r",
   "file_extension": ".r",
   "mimetype": "text/x-r-source",
   "name": "R",
   "pygments_lexer": "r",
   "version": "3.6.1"
  }
 },
 "nbformat": 4,
 "nbformat_minor": 2
}
