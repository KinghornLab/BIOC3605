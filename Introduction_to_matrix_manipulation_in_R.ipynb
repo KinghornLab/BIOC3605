{
  "cells": [
    {
      "cell_type": "markdown",
      "metadata": {
        "id": "view-in-github",
        "colab_type": "text"
      },
      "source": [
        "<a href=\"https://colab.research.google.com/github/KinghornLab/Introduction_to_Google_Colab.ipynb\" target=\"_parent\"><img src=\"https://colab.research.google.com/assets/colab-badge.svg\" alt=\"Open In Colab\"/></a>"
      ]
    },
    {
      "cell_type": "markdown",
      "id": "6d954c3e",
      "metadata": {
        "id": "6d954c3e"
      },
      "source": [
        "## TEST Introduction to Google Colab\n",
        "\n",
        "BIOC3605 - Dr Andrew Kinghorn"
      ]
    },
    {
      "cell_type": "markdown",
      "source": [
        "This is a Jupyter Notebook. One each \"cell\" you can either add text (like here) or code (like below)."
      ],
      "metadata": {
        "id": "DPyfNaZOM-wT"
      },
      "id": "DPyfNaZOM-wT"
    },
    {
      "cell_type": "code",
      "source": [
        "!echo I am using Google Colab\n",
        "!echo\n",
        "!echo Today is `date`\n"
        "x <- 1:10; #In this case, x is a vector of cosecurtive natural numbers 1, 2, 3,..., 10\n"
        "print(x);"
      ],
      "metadata": {
        "id": "NGbTea6VYitx"
      },
      "id": "NGbTea6VYitx",
      "execution_count": null,
      "outputs": []
    },
    {
      "cell_type": "markdown",
      "source": [
        "We can describe the next bit of code here.\n",
        "\n",
        "For example: The code \"cell\" below connects Colab to our Google Drive."
      ],
      "metadata": {
        "id": "RhPbHEneai2F"
      },
      "id": "RhPbHEneai2F"
    },
    {
      "cell_type": "code",
      "source": [
        "from google.colab import drive\n",
        "drive.mount('/content/drive')"
      ],
      "metadata": {
        "id": "pW_BSWHdZgb7"
      },
      "id": "pW_BSWHdZgb7",
      "execution_count": null,
      "outputs": []
    }
  ],
  "metadata": {
    "kernelspec": {
      "display_name": "Python 3",
      "language": "python",
      "name": "python3"
    },
    "language_info": {
      "codemirror_mode": {
        "name": "ipython",
        "version": 3
      },
      "file_extension": ".py",
      "mimetype": "text/x-python",
      "name": "python",
      "nbconvert_exporter": "python",
      "pygments_lexer": "ipython3",
      "version": "3.6.10"
    },
    "colab": {
      "provenance": [],
      "include_colab_link": true
    }
  },
  "nbformat": 4,
  "nbformat_minor": 5
}
